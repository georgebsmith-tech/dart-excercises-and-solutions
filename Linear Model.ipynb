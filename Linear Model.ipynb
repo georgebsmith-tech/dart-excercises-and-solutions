{
  "nbformat": 4,
  "nbformat_minor": 0,
  "metadata": {
    "kernelspec": {
      "display_name": "Python 3",
      "language": "python",
      "name": "python3"
    },
    "language_info": {
      "codemirror_mode": {
        "name": "ipython",
        "version": 3
      },
      "file_extension": ".py",
      "mimetype": "text/x-python",
      "name": "python",
      "nbconvert_exporter": "python",
      "pygments_lexer": "ipython3",
      "version": "3.7.3"
    },
    "colab": {
      "name": "Untitled.ipynb",
      "provenance": [],
      "include_colab_link": true
    }
  },
  "cells": [
    {
      "cell_type": "markdown",
      "metadata": {
        "id": "view-in-github",
        "colab_type": "text"
      },
      "source": [
        "<a href=\"https://colab.research.google.com/github/georgebsmith-tech/dart-excercises-and-solutions/blob/master/Linear%20Model.ipynb\" target=\"_parent\"><img src=\"https://colab.research.google.com/assets/colab-badge.svg\" alt=\"Open In Colab\"/></a>"
      ]
    },
    {
      "cell_type": "code",
      "metadata": {
        "id": "9v7eUe4hRZ7L",
        "colab_type": "code",
        "colab": {}
      },
      "source": [
        "import numpy as np\n",
        "class LinearModel:\n",
        "    def __init__(self,*args):\n",
        "        self.x=None\n",
        "        self.y=None\n",
        "    \n",
        "    def train(self,x,y):\n",
        "        self.x=np.array(x)\n",
        "        self.y=np.array(y)\n",
        "        self.n=len(self.x)\n",
        "        self.x_sum=(self.x).sum()\n",
        "        self.y_sum=(self.y).sum()\n",
        "        self.sum_xy=(self.x*self.y).sum()\n",
        "        self.x_squared_sum=(self.x**2).sum()\n",
        "        self.nume=self.n*self.sum_xy-(self.x_sum*self.y_sum)\n",
        "        self.denum=self.n*self.x_squared_sum-self.x_sum**2\n",
        "        self.coef_=self.nume/self.denum\n",
        "        self.intercept_=(self.y).mean()-self.coef_*(self.x).mean()\n",
        "    \n",
        "    \n",
        "    def predict(self,x):\n",
        "        return self.intercept_+ (self.coef_)*np.array(x)\n"
      ],
      "execution_count": 0,
      "outputs": []
    },
    {
      "cell_type": "code",
      "metadata": {
        "id": "APwbYBVgRZ7U",
        "colab_type": "code",
        "colab": {},
        "outputId": "91f17634-0ee1-4eb7-e5b2-f7fc08a5b0ab"
      },
      "source": [
        "2,4"
      ],
      "execution_count": 0,
      "outputs": [
        {
          "output_type": "execute_result",
          "data": {
            "text/plain": [
              "(2, 4)"
            ]
          },
          "metadata": {
            "tags": []
          },
          "execution_count": 18
        }
      ]
    },
    {
      "cell_type": "code",
      "metadata": {
        "id": "0kj98FQZRZ7c",
        "colab_type": "code",
        "colab": {}
      },
      "source": [
        "model1=LinearModel()"
      ],
      "execution_count": 0,
      "outputs": []
    },
    {
      "cell_type": "code",
      "metadata": {
        "id": "sESCozEoRZ7i",
        "colab_type": "code",
        "colab": {}
      },
      "source": [
        "data=np.array([[4.2,8.4],[2.7,6.2],[8.9,12.5],\n",
        "              [8.2,10.5],[10.2,13]])"
      ],
      "execution_count": 0,
      "outputs": []
    },
    {
      "cell_type": "code",
      "metadata": {
        "id": "M7XayEeKRZ7n",
        "colab_type": "code",
        "colab": {},
        "outputId": "a0525de5-db8e-461d-c9d2-59f208fe9463"
      },
      "source": [
        "data.ndim"
      ],
      "execution_count": 0,
      "outputs": [
        {
          "output_type": "execute_result",
          "data": {
            "text/plain": [
              "2"
            ]
          },
          "metadata": {
            "tags": []
          },
          "execution_count": 27
        }
      ]
    },
    {
      "cell_type": "code",
      "metadata": {
        "id": "lNVz7GYaRZ7t",
        "colab_type": "code",
        "colab": {},
        "outputId": "e1fe542f-66b3-4fb0-eb49-2825104ac104"
      },
      "source": [
        "data.shape"
      ],
      "execution_count": 0,
      "outputs": [
        {
          "output_type": "execute_result",
          "data": {
            "text/plain": [
              "(5, 2)"
            ]
          },
          "metadata": {
            "tags": []
          },
          "execution_count": 28
        }
      ]
    },
    {
      "cell_type": "code",
      "metadata": {
        "id": "_7jz6qBMRZ7y",
        "colab_type": "code",
        "colab": {},
        "outputId": "378db812-be26-4ccd-8ea6-bf9703e075d9"
      },
      "source": [
        "data.dtype"
      ],
      "execution_count": 0,
      "outputs": [
        {
          "output_type": "execute_result",
          "data": {
            "text/plain": [
              "dtype('float64')"
            ]
          },
          "metadata": {
            "tags": []
          },
          "execution_count": 29
        }
      ]
    },
    {
      "cell_type": "code",
      "metadata": {
        "id": "eBniFZlkRZ74",
        "colab_type": "code",
        "colab": {},
        "outputId": "dc2147a2-f54a-472b-e75f-d16d0633663e"
      },
      "source": [
        "data.size"
      ],
      "execution_count": 0,
      "outputs": [
        {
          "output_type": "execute_result",
          "data": {
            "text/plain": [
              "10"
            ]
          },
          "metadata": {
            "tags": []
          },
          "execution_count": 30
        }
      ]
    },
    {
      "cell_type": "code",
      "metadata": {
        "id": "1QMIaDVkRZ7-",
        "colab_type": "code",
        "colab": {},
        "outputId": "d5d250ec-07e1-47f2-f2aa-12d7e4ea9490"
      },
      "source": [
        "data"
      ],
      "execution_count": 0,
      "outputs": [
        {
          "output_type": "execute_result",
          "data": {
            "text/plain": [
              "array([[ 4.2,  8.4],\n",
              "       [ 2.7,  6.2],\n",
              "       [ 8.9, 12.5],\n",
              "       [ 8.2, 10.5],\n",
              "       [10.2, 13. ]])"
            ]
          },
          "metadata": {
            "tags": []
          },
          "execution_count": 31
        }
      ]
    },
    {
      "cell_type": "code",
      "metadata": {
        "id": "avQvOb9DRZ8B",
        "colab_type": "code",
        "colab": {}
      },
      "source": [
        "x=data[:,0]\n",
        "y=data[:,1]"
      ],
      "execution_count": 0,
      "outputs": []
    },
    {
      "cell_type": "code",
      "metadata": {
        "id": "PEcMD6y0RZ8H",
        "colab_type": "code",
        "colab": {}
      },
      "source": [
        "\n",
        "model1.train(x,y)"
      ],
      "execution_count": 0,
      "outputs": []
    },
    {
      "cell_type": "code",
      "metadata": {
        "id": "8x9DdXzPRZ8K",
        "colab_type": "code",
        "colab": {},
        "outputId": "2ce68296-746e-43d4-a82a-12369d3d2263"
      },
      "source": [
        "model1.predict([12.5])"
      ],
      "execution_count": 0,
      "outputs": [
        {
          "output_type": "execute_result",
          "data": {
            "text/plain": [
              "array([15.012547])"
            ]
          },
          "metadata": {
            "tags": []
          },
          "execution_count": 34
        }
      ]
    },
    {
      "cell_type": "code",
      "metadata": {
        "id": "zn-5zLgzRZ8Q",
        "colab_type": "code",
        "colab": {},
        "outputId": "797e70de-550d-44a7-8394-58834af4a5a9"
      },
      "source": [
        "model1.predict([12.5,10,29])"
      ],
      "execution_count": 0,
      "outputs": [
        {
          "output_type": "execute_result",
          "data": {
            "text/plain": [
              "array([15.012547  , 12.85152801, 29.27527234])"
            ]
          },
          "metadata": {
            "tags": []
          },
          "execution_count": 36
        }
      ]
    },
    {
      "cell_type": "code",
      "metadata": {
        "id": "zu2OlWPpRZ8W",
        "colab_type": "code",
        "colab": {}
      },
      "source": [
        "model1.predict([12.5,10,29])"
      ],
      "execution_count": 0,
      "outputs": []
    }
  ]
}